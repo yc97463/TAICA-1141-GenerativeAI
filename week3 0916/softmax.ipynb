{
 "cells": [
  {
   "cell_type": "markdown",
   "metadata": {
    "id": "rlLPfu-LwzFM"
   },
   "source": [
    "# Softmax 函數互動式示範 - 理解「贏者通吃」效應\n",
    "\n",
    "By 油成\n",
    "\n",
    "（心得於頁尾）\n",
    "\n",
    "## 📚 什麼是 Softmax？\n",
    "\n",
    "Softmax 是機器學習中非常重要的激活函數，特別在多分類問題中。它能將任意實數向量轉換為機率分布。\n",
    "\n",
    "**數學公式：**\n",
    "$$\\text{softmax}(x_i) = \\frac{e^{x_i}}{\\sum_{j=1}^{n} e^{x_j}}$$\n",
    "\n",
    "其中：\n",
    "- $x_i$ 是輸入向量的第 i 個元素\n",
    "- $e$ 是自然對數的底數（約 2.718）\n",
    "- 分母是所有元素指數的總和\n",
    "\n",
    "**重要特性：**\n",
    "1. 輸出值都在 0 到 1 之間\n",
    "2. 所有輸出值的總和等於 1\n",
    "3. 具有「贏者通吃」效應：最大的輸入值會得到不成比例的大輸出"
   ]
  },
  {
   "cell_type": "markdown",
   "metadata": {
    "id": "AwXbaYySw1qn"
   },
   "source": [
    "## 💻 第一步：安裝必要的套件"
   ]
  },
  {
   "cell_type": "code",
   "execution_count": 2,
   "metadata": {
    "executionInfo": {
     "elapsed": 331,
     "status": "ok",
     "timestamp": 1759160999653,
     "user": {
      "displayName": "You Cheng Huang (油成)",
      "userId": "03263071359803688166"
     },
     "user_tz": -480
    },
    "id": "VdbI4fI-x4lZ"
   },
   "outputs": [],
   "source": [
    "# 老師的四行固定引入\n",
    "%matplotlib inline\n",
    "import numpy as np\n",
    "import pandas as pd\n",
    "import matplotlib.pyplot as plt"
   ]
  },
  {
   "cell_type": "code",
   "execution_count": 3,
   "metadata": {
    "colab": {
     "base_uri": "https://localhost:8080/"
    },
    "executionInfo": {
     "elapsed": 64,
     "status": "ok",
     "timestamp": 1759161000191,
     "user": {
      "displayName": "You Cheng Huang (油成)",
      "userId": "03263071359803688166"
     },
     "user_tz": -480
    },
    "id": "-4mCwsnrw23r",
    "outputId": "3381e374-fc9d-4c06-f042-adb0fadfee90"
   },
   "outputs": [
    {
     "name": "stdout",
     "output_type": "stream",
     "text": [
      "✅ 套件安裝完成！\n"
     ]
    }
   ],
   "source": [
    "from ipywidgets import interact, FloatSlider\n",
    "import warnings\n",
    "warnings.filterwarnings('ignore')\n",
    "\n",
    "# 設置中文字體顯示\n",
    "plt.rcParams['font.sans-serif'] = ['SimHei', 'DejaVu Sans']\n",
    "plt.rcParams['axes.unicode_minus'] = False\n",
    "\n",
    "print(\"✅ 套件安裝完成！\")"
   ]
  },
  {
   "cell_type": "markdown",
   "metadata": {
    "id": "vVeV2iURw3l4"
   },
   "source": [
    "## 🔧 第二步：實作 Softmax 函數"
   ]
  },
  {
   "cell_type": "code",
   "execution_count": 4,
   "metadata": {
    "colab": {
     "base_uri": "https://localhost:8080/"
    },
    "executionInfo": {
     "elapsed": 31,
     "status": "ok",
     "timestamp": 1759161002403,
     "user": {
      "displayName": "You Cheng Huang (油成)",
      "userId": "03263071359803688166"
     },
     "user_tz": -480
    },
    "id": "n9GChMhbw4dc",
    "outputId": "89f52171-0a93-4e12-ff7e-2df7c71ba214"
   },
   "outputs": [
    {
     "name": "stdout",
     "output_type": "stream",
     "text": [
      "🧪 測試 Softmax 函數：\n",
      "📊 Softmax 分析\n",
      "==================================================\n",
      "輸入值: [2.  1.  0.1]\n",
      "輸出值: [0.65900114 0.24243297 0.09856589]\n",
      "輸出總和: 1.000000\n",
      "\n",
      "🔍 詳細計算過程：\n",
      "元素 1: 2.00 → e^0.00 = 1.0000 → 1.0000/1.5174 = 0.6590\n",
      "元素 2: 1.00 → e^-1.00 = 0.3679 → 0.3679/1.5174 = 0.2424\n",
      "元素 3: 0.10 → e^-1.90 = 0.1496 → 0.1496/1.5174 = 0.0986\n",
      "\n",
      "🏆 贏者通吃分析：\n",
      "最大輸入值: 2.00 (第 1 個元素)\n",
      "對應輸出機率: 0.6590 (65.90%)\n",
      "輸入差異: 1.00\n",
      "輸出比例: 2.72 (第一名是第二名的 2.72 倍)\n"
     ]
    }
   ],
   "source": [
    "def softmax(x):\n",
    "    \"\"\"\n",
    "    計算 softmax 函數\n",
    "\n",
    "    參數:\n",
    "        x: 輸入向量 (list 或 numpy array)\n",
    "\n",
    "    返回:\n",
    "        softmax 輸出向量\n",
    "    \"\"\"\n",
    "    x = np.array(x, dtype=float)\n",
    "\n",
    "    # 數值穩定性技巧：減去最大值以避免溢出\n",
    "    x_shifted = x - np.max(x)\n",
    "\n",
    "    # 計算指數\n",
    "    exp_x = np.exp(x_shifted)\n",
    "\n",
    "    # 計算 softmax\n",
    "    softmax_output = exp_x / np.sum(exp_x)\n",
    "\n",
    "    return softmax_output\n",
    "\n",
    "def print_softmax_analysis(inputs):\n",
    "    \"\"\"\n",
    "    詳細分析 softmax 的計算過程\n",
    "    \"\"\"\n",
    "    inputs = np.array(inputs, dtype=float)\n",
    "    outputs = softmax(inputs)\n",
    "\n",
    "    print(f\"📊 Softmax 分析\")\n",
    "    print(f\"{'='*50}\")\n",
    "    print(f\"輸入值: {inputs}\")\n",
    "    print(f\"輸出值: {outputs}\")\n",
    "    print(f\"輸出總和: {np.sum(outputs):.6f}\")\n",
    "    print()\n",
    "\n",
    "    # 顯示每個元素的詳細計算\n",
    "    print(\"🔍 詳細計算過程：\")\n",
    "    x_shifted = inputs - np.max(inputs)\n",
    "    exp_values = np.exp(x_shifted)\n",
    "    sum_exp = np.sum(exp_values)\n",
    "\n",
    "    for i, (orig, shifted, exp_val, prob) in enumerate(zip(inputs, x_shifted, exp_values, outputs)):\n",
    "        print(f\"元素 {i+1}: {orig:.2f} → e^{shifted:.2f} = {exp_val:.4f} → {exp_val:.4f}/{sum_exp:.4f} = {prob:.4f}\")\n",
    "\n",
    "    print()\n",
    "\n",
    "    # 分析贏者通吃效應\n",
    "    max_idx = np.argmax(inputs)\n",
    "    max_input = inputs[max_idx]\n",
    "    max_output = outputs[max_idx]\n",
    "\n",
    "    print(\"🏆 贏者通吃分析：\")\n",
    "    print(f\"最大輸入值: {max_input:.2f} (第 {max_idx+1} 個元素)\")\n",
    "    print(f\"對應輸出機率: {max_output:.4f} ({max_output*100:.2f}%)\")\n",
    "\n",
    "    # 計算輸入差異 vs 輸出差異的放大效果\n",
    "    if len(inputs) >= 2:\n",
    "        sorted_indices = np.argsort(inputs)[::-1]  # 降序排列\n",
    "        first_idx, second_idx = sorted_indices[0], sorted_indices[1]\n",
    "\n",
    "        input_diff = inputs[first_idx] - inputs[second_idx]\n",
    "        output_ratio = outputs[first_idx] / outputs[second_idx]\n",
    "\n",
    "        print(f\"輸入差異: {input_diff:.2f}\")\n",
    "        print(f\"輸出比例: {output_ratio:.2f} (第一名是第二名的 {output_ratio:.2f} 倍)\")\n",
    "\n",
    "# 測試函數\n",
    "test_inputs = [2.0, 1.0, 0.1]\n",
    "print(\"🧪 測試 Softmax 函數：\")\n",
    "print_softmax_analysis(test_inputs)"
   ]
  },
  {
   "cell_type": "markdown",
   "metadata": {
    "id": "4biBRgU_xZKy"
   },
   "source": [
    "# 心得\n",
    "\n",
    "- By 油成\n",
    "- 使用 AI: Claude Sonnet 4。\n",
    "\n",
    "在操作的過程中，Claude 二話不說就開始為我生成程式碼，並且提到他會分段設計，並且加入詳細說明。隨後，回應包涵了程式特點，以及在 Canvas 裡建立了數段程式碼，由於回應的內容不像是下載 ipynb 的格式，我請他教我整理到 jupyter notebook。\n",
    "\n",
    "實作程式碼的部分，Claude 定義了數個 function 來模組化功能，這很像我們應用數學系軟體實作的課程內容，將設計好的數學公式，轉換成程式內的運算式來執行。設計 softmax 計算過程的部分，設計了數個數學公式來表達元素與機率，並且用到降序排列，代表著找出哪個位置的數字最大（第一名），以及第二大 aka 第二名，比較這兩個數字 softmax 後的放大效應，貌似有點像極限裡的沒有上介的發散。\n",
    "\n",
    "[🔗 檢視 Claude 對話長截圖](https://blog.imych.one/2025-fall-taica-generative-ai/assignment0916/claude-coding.png)"
   ]
  }
 ],
 "metadata": {
  "colab": {
   "authorship_tag": "ABX9TyNHHyWFPCpelxyR9VIZsEYF",
   "provenance": []
  },
  "kernelspec": {
   "display_name": "Python 3",
   "name": "python3"
  },
  "language_info": {
   "name": "python"
  }
 },
 "nbformat": 4,
 "nbformat_minor": 0
}
